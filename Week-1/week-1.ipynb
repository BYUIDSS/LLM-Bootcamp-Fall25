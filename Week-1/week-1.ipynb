{
 "cells": [
  {
   "cell_type": "markdown",
   "metadata": {},
   "source": [
    "# Week 1 - LLM Bootcamp\n",
    "\n",
    "## Objectives\n",
    "\n",
    "1. Create a simple custom chat using visual and code editors\n",
    "2. Get a Gemini API key\n",
    "3. Introduce LLM concepts:\n",
    "    - API calling\n",
    "    - Token and context management\n",
    "    - System instructions\n",
    "4. Get started coding with the Gemini API\n",
    "\n",
    "## Tasks\n",
    "\n",
    "- Setup: \n",
    "    - Get everyone into Slack channel\n",
    "    - Clone the git repo: https://github.com/BYUIDSS/LLM-Bootcamp-Fall25\n",
    "- Get started with Gemini:\n",
    "    - [Google AI Studio](https://aistudio.google.com/welcome)\n",
    "    - [Gemini API key](https://aistudio.google.com/api-keys)\n",
    "- Get started with a visual editor [Dify](dify.ai)\n"
   ]
  },
  {
   "cell_type": "markdown",
   "metadata": {},
   "source": [
    "## Gemini API: Getting Started\n",
    "\n",
    "After getting an API key, navigate to the [Quickstart](https://ai.google.dev/gemini-api/docs/quickstart) section of the Gemini API docs. Copy and paste the quickstart code below"
   ]
  },
  {
   "cell_type": "code",
   "execution_count": null,
   "metadata": {},
   "outputs": [
    {
     "name": "stderr",
     "output_type": "stream",
     "text": [
      "\n",
      "[notice] A new release of pip is available: 25.1.1 -> 25.2\n",
      "[notice] To update, run: python.exe -m pip install --upgrade pip\n"
     ]
    },
    {
     "name": "stdout",
     "output_type": "stream",
     "text": [
      "Note: you may need to restart the kernel to use updated packages.\n",
      "Algorithms learn patterns from data to make predictions or decisions.\n",
      "Algorithms learn patterns from data to make predictions or decisions.\n"
     ]
    }
   ],
   "source": [
    "# Uncomment to run\n",
    "%pip install -q -U google-genai python-dotenv\n",
    "\n",
    "# Load environment variables from .env file\n",
    "from dotenv import load_dotenv\n",
    "load_dotenv()\n",
    "\n",
    "# Paste code here\n"
   ]
  },
  {
   "cell_type": "markdown",
   "metadata": {},
   "source": [
    "You can find additional models in the Gemini docs [Gemini tab](https://ai.google.dev/gemini-api/docs/models). Each model starts with the text string needed to call the model. Try exploring different models and contents (or prompts)."
   ]
  }
 ],
 "metadata": {
  "kernelspec": {
   "display_name": "Python 3",
   "language": "python",
   "name": "python3"
  },
  "language_info": {
   "codemirror_mode": {
    "name": "ipython",
    "version": 3
   },
   "file_extension": ".py",
   "mimetype": "text/x-python",
   "name": "python",
   "nbconvert_exporter": "python",
   "pygments_lexer": "ipython3",
   "version": "3.12.1"
  }
 },
 "nbformat": 4,
 "nbformat_minor": 4
}
